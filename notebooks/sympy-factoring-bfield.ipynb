{
 "metadata": {
  "name": "",
  "signature": "sha256:f7f580d993de6a951d8e55c32237998cee004d6498cbc4273b33dcf18d8cf797"
 },
 "nbformat": 3,
 "nbformat_minor": 0,
 "worksheets": [
  {
   "cells": [
    {
     "cell_type": "markdown",
     "metadata": {},
     "source": [
      "# Factoring vector equations\n",
      "\n",
      "## Magnetic due to 2-wires\n",
      "\n",
      "### General equation\n",
      "\n",
      "\\begin{align} \n",
      "\\vec{\\mathbf{B}} = {\\mu}I_1 \\left( - \\frac{y_1}{s_1^2} \\hat{x} + \\frac{x_1}{s_1^2}  \\hat{y} \\right)\n",
      "                  +{\\mu}I_2 \\left( - \\frac{y_2}{s_2^2} \\hat{x} + \\frac{x_2}{s_2^2}  \\hat{y} \\right)\n",
      "\\end{align}\n",
      "\n",
      "### Same $y$ and $I$"
     ]
    },
    {
     "cell_type": "code",
     "collapsed": false,
     "input": [
      "import sympy as sym\n",
      "from IPython.display import Math"
     ],
     "language": "python",
     "metadata": {},
     "outputs": [],
     "prompt_number": 1
    },
    {
     "cell_type": "code",
     "collapsed": false,
     "input": [
      "syms = sym.symbols(\"\\mu I1 I2 I xhat x1 x2 x yhat y s1 s2 d\")\n",
      "(m, I1, I2, I, xhat, x1, x2, x, yhat, y, s1, s2, d) = syms"
     ],
     "language": "python",
     "metadata": {},
     "outputs": [],
     "prompt_number": 2
    },
    {
     "cell_type": "code",
     "collapsed": false,
     "input": [
      "B = m * I * (-y/s1**2*xhat + (x-d)/s1**2*yhat) + m * I * (-y/s2**2*xhat + (x+d)/s2**2*yhat)"
     ],
     "language": "python",
     "metadata": {},
     "outputs": [],
     "prompt_number": 3
    },
    {
     "cell_type": "markdown",
     "metadata": {},
     "source": [
      "Quick sanity check:"
     ]
    },
    {
     "cell_type": "code",
     "collapsed": false,
     "input": [
      "Math(sym.latex(sym.collect(B, (xhat, yhat))))"
     ],
     "language": "python",
     "metadata": {},
     "outputs": [
      {
       "latex": [
        "$$I \\mu \\left(- \\frac{\\hat{x} y}{s_{1}^{2}} + \\frac{\\hat{y}}{s_{1}^{2}} \\left(- d + x\\right)\\right) + I \\mu \\left(- \\frac{\\hat{x} y}{s_{2}^{2}} + \\frac{\\hat{y}}{s_{2}^{2}} \\left(d + x\\right)\\right)$$"
       ],
       "metadata": {},
       "output_type": "pyout",
       "prompt_number": 4,
       "text": [
        "<IPython.core.display.Math at 0x106351d68>"
       ]
      }
     ],
     "prompt_number": 4
    },
    {
     "cell_type": "code",
     "collapsed": false,
     "input": [
      "factor = sym.factor(B, (xhat, yhat, I, m))\n",
      "factor"
     ],
     "language": "python",
     "metadata": {},
     "outputs": [
      {
       "metadata": {},
       "output_type": "pyout",
       "prompt_number": 5,
       "text": [
        "-I*\\mu*(xhat*(s1**2*y + s2**2*y) + yhat*(-d*s1**2 + d*s2**2 - s1**2*x - s2**2*x))/(s1**2*s2**2)"
       ]
      }
     ],
     "prompt_number": 5
    },
    {
     "cell_type": "code",
     "collapsed": false,
     "input": [
      "Math(sym.latex(factor))"
     ],
     "language": "python",
     "metadata": {},
     "outputs": [
      {
       "latex": [
        "$$- \\frac{I \\mu}{s_{1}^{2} s_{2}^{2}} \\left(\\hat{x} \\left(s_{1}^{2} y + s_{2}^{2} y\\right) + \\hat{y} \\left(- d s_{1}^{2} + d s_{2}^{2} - s_{1}^{2} x - s_{2}^{2} x\\right)\\right)$$"
       ],
       "metadata": {},
       "output_type": "pyout",
       "prompt_number": 6,
       "text": [
        "<IPython.core.display.Math at 0x106351a90>"
       ]
      }
     ],
     "prompt_number": 6
    },
    {
     "cell_type": "code",
     "collapsed": false,
     "input": [
      "yhat2 = yhat*(-d*s1**2 + d*s2**2 - s1**2*x - s2**2*x)/(s1**2*s2**2)\n",
      "Math(sym.latex(sym.factor(yhat2, (yhat,))))"
     ],
     "language": "python",
     "metadata": {},
     "outputs": [
      {
       "latex": [
        "$$\\frac{\\hat{y}}{s_{1}^{2} s_{2}^{2}} \\left(- d s_{1}^{2} + d s_{2}^{2} - s_{1}^{2} x - s_{2}^{2} x\\right)$$"
       ],
       "metadata": {},
       "output_type": "pyout",
       "prompt_number": 7,
       "text": [
        "<IPython.core.display.Math at 0x1082c5358>"
       ]
      }
     ],
     "prompt_number": 7
    },
    {
     "cell_type": "code",
     "collapsed": false,
     "input": [
      "yhat3 = (-d*s1**2 + d*s2**2 - s1**2*x - s2**2*x)/(s1**2*s2**2)\n",
      "Math(sym.latex(sym.factor(yhat3, (s1,s2))))"
     ],
     "language": "python",
     "metadata": {},
     "outputs": [
      {
       "latex": [
        "$$- \\frac{1}{s_{1}^{2} s_{2}^{2}} \\left(s_{1}^{2} \\left(d + x\\right) + s_{2}^{2} \\left(- d + x\\right)\\right)$$"
       ],
       "metadata": {},
       "output_type": "pyout",
       "prompt_number": 8,
       "text": [
        "<IPython.core.display.Math at 0x1082c56a0>"
       ]
      }
     ],
     "prompt_number": 8
    },
    {
     "cell_type": "markdown",
     "metadata": {},
     "source": [
      "From these, we get\n",
      "\n",
      "\\begin{align} \n",
      "\\frac{s_1^2 y + s_2^2 y}{s_1^2 s_2^2} \\hat{x} \n",
      "\\end{align}\n",
      "\n",
      "\\begin{align} \n",
      "- \\frac{\\Big(s_{1}^{2} \\left(x + d\\right) + s_{2}^{2} \\left(x - d\\right)\\Big)}{s_1^2 s_2^2} \\hat{y} \n",
      "\\end{align}\n",
      "\n",
      "and thus our equation for the magnetic field due to two wires with the same currents:\n",
      "\n",
      "\\begin{align} \n",
      "\\vec{\\mathbf{B}} = {\\mu}I \\Bigg( - \\bigg( \\frac{y}{s_1^2} + \\frac{y}{s_2^2} \\bigg) \\hat{x}\n",
      "                 + \\bigg( \\frac{x - d}{s_1^2} + \\frac{x + d}{s_2^2} \\bigg) \\hat{y} \\Bigg)\n",
      "\\end{align}"
     ]
    },
    {
     "cell_type": "markdown",
     "metadata": {},
     "source": [
      "### Different $I$"
     ]
    },
    {
     "cell_type": "code",
     "collapsed": false,
     "input": [
      "B = m * I1 * (-y/s1**2*xhat + x1/s1**2*yhat) + m * I2 * (-y/s2**2*xhat + x2/s2**2*yhat)"
     ],
     "language": "python",
     "metadata": {},
     "outputs": [],
     "prompt_number": 9
    },
    {
     "cell_type": "markdown",
     "metadata": {},
     "source": [
      "Sanity check:"
     ]
    },
    {
     "cell_type": "code",
     "collapsed": false,
     "input": [
      "Math(sym.latex(sym.collect(B, (xhat, yhat))))"
     ],
     "language": "python",
     "metadata": {},
     "outputs": [
      {
       "latex": [
        "$$I_{1} \\mu \\left(\\frac{x_{1} \\hat{y}}{s_{1}^{2}} - \\frac{\\hat{x} y}{s_{1}^{2}}\\right) + I_{2} \\mu \\left(\\frac{x_{2} \\hat{y}}{s_{2}^{2}} - \\frac{\\hat{x} y}{s_{2}^{2}}\\right)$$"
       ],
       "metadata": {},
       "output_type": "pyout",
       "prompt_number": 10,
       "text": [
        "<IPython.core.display.Math at 0x106351b38>"
       ]
      }
     ],
     "prompt_number": 10
    },
    {
     "cell_type": "code",
     "collapsed": false,
     "input": [
      "factor = sym.factor(B, (xhat, yhat))\n",
      "factor"
     ],
     "language": "python",
     "metadata": {},
     "outputs": [
      {
       "metadata": {},
       "output_type": "pyout",
       "prompt_number": 11,
       "text": [
        "-\\mu*(xhat*(I1*s2**2*y + I2*s1**2*y) + yhat*(-I1*s2**2*x1 - I2*s1**2*x2))/(s1**2*s2**2)"
       ]
      }
     ],
     "prompt_number": 11
    },
    {
     "cell_type": "code",
     "collapsed": false,
     "input": [
      "sym.latex(factor)"
     ],
     "language": "python",
     "metadata": {},
     "outputs": [
      {
       "metadata": {},
       "output_type": "pyout",
       "prompt_number": 12,
       "text": [
        "'- \\\\frac{\\\\mu}{s_{1}^{2} s_{2}^{2}} \\\\left(\\\\hat{x} \\\\left(I_{1} s_{2}^{2} y + I_{2} s_{1}^{2} y\\\\right) + \\\\hat{y} \\\\left(- I_{1} s_{2}^{2} x_{1} - I_{2} s_{1}^{2} x_{2}\\\\right)\\\\right)'"
       ]
      }
     ],
     "prompt_number": 12
    },
    {
     "cell_type": "code",
     "collapsed": false,
     "input": [
      "Math(sym.latex(factor))"
     ],
     "language": "python",
     "metadata": {},
     "outputs": [
      {
       "latex": [
        "$$- \\frac{\\mu}{s_{1}^{2} s_{2}^{2}} \\left(\\hat{x} \\left(I_{1} s_{2}^{2} y + I_{2} s_{1}^{2} y\\right) + \\hat{y} \\left(- I_{1} s_{2}^{2} x_{1} - I_{2} s_{1}^{2} x_{2}\\right)\\right)$$"
       ],
       "metadata": {},
       "output_type": "pyout",
       "prompt_number": 13,
       "text": [
        "<IPython.core.display.Math at 0x1082b8a20>"
       ]
      }
     ],
     "prompt_number": 13
    },
    {
     "cell_type": "code",
     "collapsed": false,
     "input": [
      "xhat2 = -(I1*s2**2*y + I2*s1**2*y)/(s1**2*s2**2)\n",
      "factor = sym.factor(xhat2, (s1, s2))\n",
      "factor"
     ],
     "language": "python",
     "metadata": {},
     "outputs": [
      {
       "metadata": {},
       "output_type": "pyout",
       "prompt_number": 14,
       "text": [
        "-y*(I1*s2**2 + I2*s1**2)/(s1**2*s2**2)"
       ]
      }
     ],
     "prompt_number": 14
    },
    {
     "cell_type": "code",
     "collapsed": false,
     "input": [
      "sym.latex(factor)"
     ],
     "language": "python",
     "metadata": {},
     "outputs": [
      {
       "metadata": {},
       "output_type": "pyout",
       "prompt_number": 15,
       "text": [
        "'- \\\\frac{y}{s_{1}^{2} s_{2}^{2}} \\\\left(I_{1} s_{2}^{2} + I_{2} s_{1}^{2}\\\\right)'"
       ]
      }
     ],
     "prompt_number": 15
    },
    {
     "cell_type": "code",
     "collapsed": false,
     "input": [
      "Math(sym.latex(factor))"
     ],
     "language": "python",
     "metadata": {},
     "outputs": [
      {
       "latex": [
        "$$- \\frac{y}{s_{1}^{2} s_{2}^{2}} \\left(I_{1} s_{2}^{2} + I_{2} s_{1}^{2}\\right)$$"
       ],
       "metadata": {},
       "output_type": "pyout",
       "prompt_number": 16,
       "text": [
        "<IPython.core.display.Math at 0x106351cc0>"
       ]
      }
     ],
     "prompt_number": 16
    },
    {
     "cell_type": "code",
     "collapsed": false,
     "input": [
      "yhat2 = (I1*s2**2*x1 + I2*s1**2*x2)/(s1**2*s2**2)\n",
      "factor = sym.factor(yhat2, (s1, s2))\n",
      "factor"
     ],
     "language": "python",
     "metadata": {},
     "outputs": [
      {
       "metadata": {},
       "output_type": "pyout",
       "prompt_number": 17,
       "text": [
        "(I1*s2**2*x1 + I2*s1**2*x2)/(s1**2*s2**2)"
       ]
      }
     ],
     "prompt_number": 17
    },
    {
     "cell_type": "code",
     "collapsed": false,
     "input": [
      "sym.latex(factor)"
     ],
     "language": "python",
     "metadata": {},
     "outputs": [
      {
       "metadata": {},
       "output_type": "pyout",
       "prompt_number": 18,
       "text": [
        "'\\\\frac{1}{s_{1}^{2} s_{2}^{2}} \\\\left(I_{1} s_{2}^{2} x_{1} + I_{2} s_{1}^{2} x_{2}\\\\right)'"
       ]
      }
     ],
     "prompt_number": 18
    },
    {
     "cell_type": "code",
     "collapsed": false,
     "input": [
      "Math(sym.latex(factor))"
     ],
     "language": "python",
     "metadata": {},
     "outputs": [
      {
       "latex": [
        "$$\\frac{1}{s_{1}^{2} s_{2}^{2}} \\left(I_{1} s_{2}^{2} x_{1} + I_{2} s_{1}^{2} x_{2}\\right)$$"
       ],
       "metadata": {},
       "output_type": "pyout",
       "prompt_number": 19,
       "text": [
        "<IPython.core.display.Math at 0x10824e4a8>"
       ]
      }
     ],
     "prompt_number": 19
    },
    {
     "cell_type": "markdown",
     "metadata": {},
     "source": [
      "From this, we get these:\n",
      "\n",
      "\\begin{align}\n",
      "- \\frac{I_1 s_2^2 + I_2 s_1^2}{s_1^2 s_2^2} y \\hat{x} \n",
      "\\end{align}\n",
      "\n",
      "\\begin{align} \n",
      "\\frac{I_1 s_2^2 x_1 + I_2 s_1^2 x_2}{s_1^2 s_2^2} \\hat{y} \n",
      "\\end{align}\n",
      "\n",
      "and thus our equation for the magnetic field due to two wires with different currents:\n",
      "\n",
      "\\begin{align} \n",
      "\\vec{\\mathbf{B}} = {\\mu} \\Bigg( - \\bigg( \\frac{I_1 s_2^2 + I_2 s_1^2}{s_1^2 s_2^2} y \\bigg) \\hat{x}\n",
      "                                + \\bigg( \\frac{I_1 s_2^2 x_1 + I_2 s_1^2 x_2}{s_1^2 s_2^2} \\bigg) \\hat{y} \\Bigg)\n",
      "\\end{align}\n",
      "\n",
      "\\begin{align} \n",
      "= \\frac{\\mu}{s_1^2 s_2^2} \\Big( - y \\big( I_1 s_2^2 + I_2 s_1^2 \\big) \\hat{x}\n",
      "                                + \\big( I_1 s_2^2 (x - d) + I_2 s_1^2 (x + d) \\big) \\hat{y} \\Big)\n",
      "\\end{align}"
     ]
    }
   ],
   "metadata": {}
  }
 ]
}